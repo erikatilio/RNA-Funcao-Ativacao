{
 "cells": [
  {
   "cell_type": "markdown",
   "metadata": {},
   "source": [
    "# Conhecendo as Funções de Ativação\n",
    "\n",
    "**Disciplina**: Redes Neurais Artificiais 2020.1  \n",
    "**Professora**: Elloá B. Guedes (ebgcosta@uea.edu.br)  \n",
    "**Github**: http://github.com/elloa  \n",
    "\n",
    "## Apresentação\n",
    "\n",
    "No contexto das redes neurais artificiais, as funções de ativação representam as transformações aplicadas às entradas do neurônio sujeitas aos respectivos graus de contribuição (pesos) para decidir se este neurônio deve ou não disparar. Ao considerar as redes neurais feedforward multilayer perceptron, tais funções de ativação devem ser contínuas e deriváveis, sendo responsáveis por realizarem transformações não-lineares sucessivas da informação fornecida na camada de entrada até a camada de saída, fazendo com que o problema vá tornando-se linearmente separável à medida que adentra-se na rede.\n",
    "\n",
    "Neste notebook, o seu objetivo é conhecer melhor as funções de ativação disponíveis na literatura e suas respectivas derivadas. Você irá construir gráficos que ilustrem tais funções.\n",
    "\n",
    "## Requisitos\n",
    "\n",
    "- Utilizar numpy\n",
    "- Plotar com matplotlib"
   ]
  },
  {
   "cell_type": "code",
   "execution_count": 1,
   "metadata": {},
   "outputs": [],
   "source": [
    "# Célula reservada para importar bibliotecas\n",
    "import numpy as np\n",
    "import matplotlib.pyplot as plt"
   ]
  },
  {
   "cell_type": "markdown",
   "metadata": {},
   "source": [
    "## Intervalo de Entrada\n",
    "\n",
    "- Todas as funções devem ser ilustradas no intervalo [-4,+4] com amostras intervaladas em 0.1 no eixo x\n",
    "- Consulte a documentação de numpy.arange sobre como fazê-lo\n",
    "- https://numpy.org/doc/stable/reference/generated/numpy.arange.html#numpy.arange\n",
    "- Quantas amostras há em tal espaço de entrada?\n",
    "- Qual o tipo deste dado?\n",
    "- Qual a forma do espaço de entrada?"
   ]
  },
  {
   "cell_type": "code",
   "execution_count": 2,
   "metadata": {},
   "outputs": [
    {
     "data": {
      "text/plain": [
       "array([-4.00000000e+00, -3.90000000e+00, -3.80000000e+00, -3.70000000e+00,\n",
       "       -3.60000000e+00, -3.50000000e+00, -3.40000000e+00, -3.30000000e+00,\n",
       "       -3.20000000e+00, -3.10000000e+00, -3.00000000e+00, -2.90000000e+00,\n",
       "       -2.80000000e+00, -2.70000000e+00, -2.60000000e+00, -2.50000000e+00,\n",
       "       -2.40000000e+00, -2.30000000e+00, -2.20000000e+00, -2.10000000e+00,\n",
       "       -2.00000000e+00, -1.90000000e+00, -1.80000000e+00, -1.70000000e+00,\n",
       "       -1.60000000e+00, -1.50000000e+00, -1.40000000e+00, -1.30000000e+00,\n",
       "       -1.20000000e+00, -1.10000000e+00, -1.00000000e+00, -9.00000000e-01,\n",
       "       -8.00000000e-01, -7.00000000e-01, -6.00000000e-01, -5.00000000e-01,\n",
       "       -4.00000000e-01, -3.00000000e-01, -2.00000000e-01, -1.00000000e-01,\n",
       "        3.55271368e-15,  1.00000000e-01,  2.00000000e-01,  3.00000000e-01,\n",
       "        4.00000000e-01,  5.00000000e-01,  6.00000000e-01,  7.00000000e-01,\n",
       "        8.00000000e-01,  9.00000000e-01,  1.00000000e+00,  1.10000000e+00,\n",
       "        1.20000000e+00,  1.30000000e+00,  1.40000000e+00,  1.50000000e+00,\n",
       "        1.60000000e+00,  1.70000000e+00,  1.80000000e+00,  1.90000000e+00,\n",
       "        2.00000000e+00,  2.10000000e+00,  2.20000000e+00,  2.30000000e+00,\n",
       "        2.40000000e+00,  2.50000000e+00,  2.60000000e+00,  2.70000000e+00,\n",
       "        2.80000000e+00,  2.90000000e+00,  3.00000000e+00,  3.10000000e+00,\n",
       "        3.20000000e+00,  3.30000000e+00,  3.40000000e+00,  3.50000000e+00,\n",
       "        3.60000000e+00,  3.70000000e+00,  3.80000000e+00,  3.90000000e+00])"
      ]
     },
     "execution_count": 2,
     "metadata": {},
     "output_type": "execute_result"
    }
   ],
   "source": [
    "amostras = np.arange(-4,4,0.1)\n",
    "amostras"
   ]
  },
  {
   "cell_type": "code",
   "execution_count": 3,
   "metadata": {},
   "outputs": [
    {
     "name": "stdout",
     "output_type": "stream",
     "text": [
      "Tipo de dado: float64\n"
     ]
    }
   ],
   "source": [
    "print(\"Tipo de dado: {}\".format(amostras.dtype))"
   ]
  },
  {
   "cell_type": "code",
   "execution_count": 4,
   "metadata": {},
   "outputs": [
    {
     "name": "stdout",
     "output_type": "stream",
     "text": [
      "Quantidade de amostras: 80\n"
     ]
    }
   ],
   "source": [
    "print(\"Quantidade de amostras: {}\".format(amostras.shape[0]))"
   ]
  },
  {
   "cell_type": "code",
   "execution_count": null,
   "metadata": {},
   "outputs": [],
   "source": []
  },
  {
   "cell_type": "markdown",
   "metadata": {},
   "source": [
    "### Função de ativação sigmoide\n",
    "\n",
    "$$f(x) = \\frac{1}{1 + e^{-\\beta \\cdot x}}$$\n",
    "\n",
    "- Implemente uma função em Python que retorne o valor da função sigmóide para uma dada entrada\n",
    "- Nesta função, considere beta como parâmetro nomeado com valor igual a 1.0\n",
    "- Plote o gráfico da função no intervalo de entrada previamente especificado\n",
    "- Implemente uma função que retorne o valor da derivada da função sigmoide\n",
    "- Em um mesmo gráfico, ilustre 3 valores distintos para $\\beta$:\n",
    "  - $\\beta = 0.7$ na cor laranja\n",
    "  - $\\beta = 0.5$ na cor verde\n",
    "  - $\\beta = 0.3$ na cor vermelha\n",
    "  - Use legendas no gráfico"
   ]
  },
  {
   "cell_type": "code",
   "execution_count": 5,
   "metadata": {},
   "outputs": [],
   "source": [
    "def sigmoid(X,B):\n",
    "    A = 1 / (1 + np.exp(-B*X))\n",
    "    return A, X\n",
    "\n",
    "def derivada_funcao_sigmoide(x):\n",
    "    return x * (1 - x)"
   ]
  },
  {
   "cell_type": "code",
   "execution_count": 6,
   "metadata": {},
   "outputs": [],
   "source": [
    "Z_sigmoid, z = sigmoid(amostras, 1.0)\n",
    "A_sigmoid, a = sigmoid(amostras,0.7)\n",
    "B_sigmoid, b = sigmoid(amostras,0.5)\n",
    "C_sigmoid, c = sigmoid(amostras,0.3)"
   ]
  },
  {
   "cell_type": "code",
   "execution_count": 7,
   "metadata": {},
   "outputs": [
    {
     "data": {
      "text/plain": [
       "Text(0.5, 1.0, 'Sigmoid Function')"
      ]
     },
     "execution_count": 7,
     "metadata": {},
     "output_type": "execute_result"
    },
    {
     "data": {
      "image/png": "[encoded data removed]",
      "text/plain": [
       "<Figure size 864x576 with 1 Axes>"
      ]
     },
     "metadata": {
      "needs_background": "light"
     },
     "output_type": "display_data"
    }
   ],
   "source": [
    "plt.figure(figsize=(12, 8))\n",
    "plt.subplot(2, 2, 1)\n",
    "plt.plot(z, Z_sigmoid, label=\"Function\")\n",
    "\n",
    "plt.plot(a, derivada_funcao_sigmoide(A_sigmoid), label = \"0.7\")\n",
    "plt.plot(b, derivada_funcao_sigmoide(B_sigmoid), label = \"0.5\")\n",
    "plt.plot(c, derivada_funcao_sigmoide(C_sigmoid), label = \"0.3\")\n",
    "plt.legend(loc=\"upper left\")\n",
    "plt.xlabel(\"x\")\n",
    "plt.ylabel(r\"$\\frac{1}{1 + e^{-b.x}}$\")\n",
    "plt.title(\"Sigmoid Function\", fontsize=16)"
   ]
  },
  {
   "cell_type": "markdown",
   "metadata": {},
   "source": [
    "### Função de Ativação ReLU (Unidade Linear Retificada)\n",
    "\n",
    "$$f(x) = max(0,x)$$\n",
    "\n",
    "- Implemente uma função em Python que retorne o valor da função ReLU para uma dada entrada\n",
    "- Plote o gráfico da função no intervalo de entrada previamente especificado\n",
    "- Implemente uma função que retorne o valor da derivada da função ReLU"
   ]
  },
  {
   "cell_type": "code",
   "execution_count": null,
   "metadata": {},
   "outputs": [],
   "source": []
  },
  {
   "cell_type": "markdown",
   "metadata": {},
   "source": [
    "### Função de ativação linear (purelin)\n",
    "\n",
    "$$f(x) = x$$\n",
    "\n",
    "- Implemente uma função em Python que retorne o valor da função linear para uma dada entrada\n",
    "- Plote o gráfico da função no intervalo de entrada previamente especificado\n",
    "- Implemente uma função que retorne o valor da derivada da função em questão"
   ]
  },
  {
   "cell_type": "code",
   "execution_count": null,
   "metadata": {},
   "outputs": [],
   "source": []
  },
  {
   "cell_type": "code",
   "execution_count": null,
   "metadata": {},
   "outputs": [],
   "source": []
  },
  {
   "cell_type": "code",
   "execution_count": null,
   "metadata": {},
   "outputs": [],
   "source": []
  },
  {
   "cell_type": "markdown",
   "metadata": {},
   "source": [
    "### Função de ativação Tangente Hiperbólica\n",
    "\n",
    "$$f(x) = tanh(x)$$\n",
    "\n",
    "- Implemente uma função em Python que retorne o valor da função tangente hiperbólica para uma dada entrada\n",
    "- Plote o gráfico da função no intervalo de entrada previamente especificado\n",
    "- Implemente uma função que retorne o valor da derivada da função em questão\n",
    "- Utilize bibliotecas para auxiliar nesta tarefa\n",
    "- Considere o intervalo (-1,1)"
   ]
  },
  {
   "cell_type": "code",
   "execution_count": null,
   "metadata": {},
   "outputs": [],
   "source": []
  },
  {
   "cell_type": "code",
   "execution_count": null,
   "metadata": {},
   "outputs": [],
   "source": []
  },
  {
   "cell_type": "markdown",
   "metadata": {},
   "source": [
    "### Função de Ativação Gaussiana\n",
    "\n",
    "$$f(x) = \\exp \\left( \\frac{-(x - \\mu)^2}{2\\sigma^2} \\right)$$\n",
    "\n",
    "- $\\mu$ é o ponto médio (centro) da curva\n",
    "- $\\sigma$ denota o raio de abertura\n",
    "- Implemente uma função em Python que retorne o valor da função gaussiana para uma dada entrada\n",
    "- Plote o gráfico da função no intervalo de entrada previamente especificado\n",
    "- Implemente uma função que retorne o valor da derivada da função em questão\n",
    "\n",
    "\n",
    "Considere também os seguintes valores ao plotar a função\n",
    "\n",
    "- Parâmetros nomeados $\\mu = 0$ e $\\sigma = 1$\n",
    "- $\\mu = 0, \\sigma = 0.3$\n",
    "- $\\mu = 0, \\sigma = 0.5$\n",
    "- $\\mu = 0, \\sigma = 0.7$\n",
    "- $\\mu = 0, \\sigma = 0.9$\n",
    "- $\\mu = 0, \\sigma = 1.1$"
   ]
  },
  {
   "cell_type": "code",
   "execution_count": 8,
   "metadata": {},
   "outputs": [],
   "source": [
    "def gaussiana(x, mu, sig):\n",
    "    return np.exp(-np.power(x - mu, 2.) / (2 * np.power(sig, 2.)))"
   ]
  },
  {
   "cell_type": "code",
   "execution_count": 9,
   "metadata": {},
   "outputs": [
    {
     "data": {
      "image/png": "[encoded data removed]",
      "text/plain": [
       "<Figure size 432x288 with 1 Axes>"
      ]
     },
     "metadata": {
      "needs_background": "light"
     },
     "output_type": "display_data"
    }
   ],
   "source": [
    "x_values = amostras\n",
    "for mu, sig in [(0, 0.3), (0, 0.5), (0, 0.7), (0, 0.9), (0, 1.1)]:\n",
    "    plt.plot(x_values, gaussiana(x_values, mu, sig))\n",
    "\n",
    "plt.show()"
   ]
  },
  {
   "cell_type": "markdown",
   "metadata": {},
   "source": [
    "### Função de Ativação Leaky ReLU\n",
    "\n",
    "$$f(x) = \\left\\{\\begin{array}{cc} 0.01\\cdot x & x < 0\\\\\n",
    "x & x \\geq 0\n",
    "\\end{array}\n",
    "\\right.$$\n",
    "\n",
    "- Implemente uma função em Python que retorne o valor da função Leaky ReLU para uma dada entrada\n",
    "- Plote o gráfico da função no intervalo de entrada previamente especificado\n",
    "- Implemente uma função que retorne o valor da derivada da função Leaky ReLU"
   ]
  },
  {
   "cell_type": "code",
   "execution_count": null,
   "metadata": {},
   "outputs": [],
   "source": []
  },
  {
   "cell_type": "code",
   "execution_count": null,
   "metadata": {},
   "outputs": [],
   "source": []
  },
  {
   "cell_type": "code",
   "execution_count": null,
   "metadata": {},
   "outputs": [],
   "source": []
  }
 ],
 "metadata": {
  "kernelspec": {
   "display_name": "Python 3",
   "language": "python",
   "name": "python3"
  },
  "language_info": {
   "codemirror_mode": {
    "name": "ipython",
    "version": 3
   },
   "file_extension": ".py",
   "mimetype": "text/x-python",
   "name": "python",
   "nbconvert_exporter": "python",
   "pygments_lexer": "ipython3",
   "version": "3.8.2"
  }
 },
 "nbformat": 4,
 "nbformat_minor": 4
}
